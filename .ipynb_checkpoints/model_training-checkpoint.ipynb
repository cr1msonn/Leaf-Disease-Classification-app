{
 "cells": [
  {
   "cell_type": "code",
   "execution_count": 1,
   "id": "9900d44b",
   "metadata": {},
   "outputs": [],
   "source": [
    "import torch\n",
    "import numpy as np\n",
    "from torchvision import transforms\n",
    "import torch.nn as nn"
   ]
  },
  {
   "cell_type": "code",
   "execution_count": 2,
   "id": "fe3b6edc",
   "metadata": {},
   "outputs": [
    {
     "data": {
      "text/plain": [
       "True"
      ]
     },
     "execution_count": 2,
     "metadata": {},
     "output_type": "execute_result"
    }
   ],
   "source": [
    " torch.cuda.is_available()"
   ]
  },
  {
   "cell_type": "code",
   "execution_count": 4,
   "id": "85c5ec32",
   "metadata": {},
   "outputs": [
    {
     "data": {
      "text/plain": [
       "'cuda'"
      ]
     },
     "execution_count": 4,
     "metadata": {},
     "output_type": "execute_result"
    }
   ],
   "source": [
    "device = \"cuda\" if torch.cuda.is_available() else \"cpu\"\n",
    "device"
   ]
  },
  {
   "cell_type": "code",
   "execution_count": 5,
   "id": "346eb66d",
   "metadata": {},
   "outputs": [],
   "source": [
    "BATCH_SIZE = 16"
   ]
  },
  {
   "cell_type": "code",
   "execution_count": 6,
   "id": "783fe470",
   "metadata": {},
   "outputs": [],
   "source": [
    "train_data_dir = r'C:\\Users\\despe\\leaf\\data\\Training'\n",
    "valid_data_dir = r'C:\\Users\\despe\\leaf\\data\\Validation'\n",
    "test_data_dir = r'C:\\Users\\despe\\leaf\\data\\Testing'"
   ]
  },
  {
   "cell_type": "code",
   "execution_count": 7,
   "id": "96a04f53",
   "metadata": {},
   "outputs": [],
   "source": [
    "transform = transforms.Compose([\n",
    "    transforms.RandomRotation((20,90)),\n",
    "    transforms.RandomHorizontalFlip(p = 0.5),\n",
    "    transforms.Resize((224, 224)),  # Resize the image to a specific size\n",
    "    transforms.ToTensor(),  # Convert the image to a tensor\n",
    "    transforms.Normalize(mean=[0.485, 0.456, 0.406], std=[0.229, 0.224, 0.225])  # Normalize the image\n",
    "])\n"
   ]
  },
  {
   "cell_type": "code",
   "execution_count": 8,
   "id": "6a61b065",
   "metadata": {},
   "outputs": [],
   "source": [
    "train = datasets.ImageFolder(train_data_dir, transform=transform)\n",
    "\n",
    "valid = datasets.ImageFolder(valid_data_dir, transform=transform)\n",
    "\n",
    "test = datasets.ImageFolder(test_data_dir, transform=transform)"
   ]
  },
  {
   "cell_type": "code",
   "execution_count": 9,
   "id": "4c1f0ddd",
   "metadata": {},
   "outputs": [],
   "source": [
    "train_loader = torch.utils.data.DataLoader(train, batch_size=BATCH_SIZE, shuffle=True)\n",
    "test_loader = torch.utils.data.DataLoader(test, batch_size=BATCH_SIZE, shuffle=False)\n",
    "valid_loader = torch.utils.data.DataLoader(valid, batch_size=BATCH_SIZE, shuffle=False)\n"
   ]
  },
  {
   "cell_type": "code",
   "execution_count": 10,
   "id": "a85cecf4",
   "metadata": {},
   "outputs": [
    {
     "name": "stdout",
     "output_type": "stream",
     "text": [
      "['Early_Blight', 'Healthy', 'Late_Blight']\n"
     ]
    }
   ],
   "source": [
    "class_names = train.classes\n",
    "\n",
    "# Print the class names\n",
    "print(class_names)"
   ]
  },
  {
   "cell_type": "code",
   "execution_count": 11,
   "id": "e0b33a07",
   "metadata": {},
   "outputs": [],
   "source": [
    "class LeafDiseaseClassificationModel(nn.Module):\n",
    "    def __init__(self):\n",
    "        super(LeafDiseaseClassificationModel, self).__init__()\n",
    "        \n",
    "        # Define the convolutional layers\n",
    "        self.conv1 = nn.Conv2d(in_channels=3, out_channels=16, kernel_size=3, stride=1, padding=1)\n",
    "        self.relu1 = nn.ReLU()\n",
    "        self.pool1 = nn.MaxPool2d(kernel_size=2, stride=2)\n",
    "        \n",
    "        self.conv2 = nn.Conv2d(in_channels=16, out_channels=32, kernel_size=3, stride=1, padding=1)\n",
    "        self.relu2 = nn.ReLU()\n",
    "        self.pool2 = nn.MaxPool2d(kernel_size=2, stride=2)\n",
    "        \n",
    "        # Define the fully connected layers\n",
    "        self.fc1 = nn.Linear(in_features=32 * 56 * 56, out_features=256)\n",
    "        self.relu3 = nn.ReLU()\n",
    "        self.fc2 = nn.Linear(in_features=256, out_features=3)  # Assuming 10 output classes\n",
    "        \n",
    "    def forward(self, x):\n",
    "        x = self.pool1(self.relu1(self.conv1(x)))\n",
    "        x = self.pool2(self.relu2(self.conv2(x)))\n",
    "        x = x.view(x.size(0), -1)  # Flatten the tensor\n",
    "        x = self.relu3(self.fc1(x))\n",
    "        x = self.fc2(x)\n",
    "        return x\n"
   ]
  },
  {
   "cell_type": "code",
   "execution_count": null,
   "id": "0aca348f",
   "metadata": {},
   "outputs": [],
   "source": []
  },
  {
   "cell_type": "code",
   "execution_count": 12,
   "id": "c972617c",
   "metadata": {},
   "outputs": [
    {
     "name": "stderr",
     "output_type": "stream",
     "text": [
      "Epoch 1/20: 100%|██████████| 204/204 [00:31<00:00,  6.46batch/s, Loss=0.829]\n",
      "Epoch 2/20: 100%|██████████| 204/204 [00:20<00:00,  9.81batch/s, Loss=0.699]\n",
      "Epoch 3/20: 100%|██████████| 204/204 [00:20<00:00,  9.74batch/s, Loss=0.334]\n",
      "Epoch 4/20: 100%|██████████| 204/204 [00:21<00:00,  9.52batch/s, Loss=0.0664]\n",
      "Epoch 5/20: 100%|██████████| 204/204 [00:22<00:00,  9.26batch/s, Loss=0.8]   \n",
      "Epoch 6/20: 100%|██████████| 204/204 [00:20<00:00,  9.74batch/s, Loss=1.23]  \n",
      "Epoch 7/20: 100%|██████████| 204/204 [00:20<00:00,  9.84batch/s, Loss=0.244] \n",
      "Epoch 8/20: 100%|██████████| 204/204 [00:21<00:00,  9.44batch/s, Loss=0.282] \n",
      "Epoch 9/20: 100%|██████████| 204/204 [00:20<00:00,  9.73batch/s, Loss=0.0118] \n",
      "Epoch 10/20: 100%|██████████| 204/204 [00:20<00:00,  9.75batch/s, Loss=0.0251]\n",
      "Epoch 11/20: 100%|██████████| 204/204 [00:22<00:00,  9.17batch/s, Loss=0.0975] \n",
      "Epoch 12/20: 100%|██████████| 204/204 [00:21<00:00,  9.36batch/s, Loss=0.285] \n",
      "Epoch 13/20: 100%|██████████| 204/204 [00:20<00:00,  9.80batch/s, Loss=0.0318] \n",
      "Epoch 14/20: 100%|██████████| 204/204 [00:21<00:00,  9.60batch/s, Loss=0.154]  \n",
      "Epoch 15/20: 100%|██████████| 204/204 [00:19<00:00, 10.72batch/s, Loss=0.0258] \n",
      "Epoch 16/20: 100%|██████████| 204/204 [00:21<00:00,  9.60batch/s, Loss=0.00186]\n",
      "Epoch 17/20: 100%|██████████| 204/204 [00:20<00:00,  9.99batch/s, Loss=0.000694]\n",
      "Epoch 18/20: 100%|██████████| 204/204 [00:21<00:00,  9.68batch/s, Loss=0.00768]\n",
      "Epoch 19/20: 100%|██████████| 204/204 [00:21<00:00,  9.57batch/s, Loss=0.0758] \n",
      "Epoch 20/20: 100%|██████████| 204/204 [00:19<00:00, 10.67batch/s, Loss=0.0217]  \n"
     ]
    }
   ],
   "source": [
    "import tqdm\n",
    "\n",
    "device = torch.device('cuda' if torch.cuda.is_available() else 'cpu')\n",
    "\n",
    "# Set up your model, loss function, and optimizer\n",
    "model = LeafDiseaseClassificationModel().to(device)\n",
    "loss_fn = nn.CrossEntropyLoss()\n",
    "optimizer = torch.optim.Adam(model.parameters(), lr=0.001)\n",
    "\n",
    "# Training loop\n",
    "num_epochs = 20\n",
    "for epoch in range(num_epochs):\n",
    "    model.train()  # Set model to training mode\n",
    "    pbar = tqdm.tqdm(train_loader, desc=f'Epoch {epoch+1}/{num_epochs}', unit='batch')\n",
    "    for x_batch, y_batch in pbar:\n",
    "        x_batch = x_batch.to(device)\n",
    "        y_batch = y_batch.to(device)\n",
    "\n",
    "        # Forward pass\n",
    "        outputs = model(x_batch)\n",
    "        loss = loss_fn(outputs, y_batch)\n",
    "\n",
    "        # Backward pass and optimization\n",
    "        optimizer.zero_grad()\n",
    "        loss.backward()\n",
    "        optimizer.step()\n",
    "\n",
    "        # Update progress bar description\n",
    "        pbar.set_postfix({'Loss': loss.item()})\n",
    "\n",
    "\n"
   ]
  },
  {
   "cell_type": "code",
   "execution_count": 15,
   "id": "77a70b68",
   "metadata": {},
   "outputs": [
    {
     "name": "stdout",
     "output_type": "stream",
     "text": [
      "0.9278846153846154\n"
     ]
    }
   ],
   "source": [
    "with torch.no_grad():\n",
    "    # Validation loop\n",
    "    acc = []\n",
    "    for images, labels in valid_loader:\n",
    "        # Move the data to the device (e.g., GPU) if available\n",
    "        images = images.to(device)\n",
    "        labels = labels.to(device)\n",
    "\n",
    "        # Forward pass\n",
    "        outputs = model(images)\n",
    "\n",
    "        # Calculate the loss or any other metrics for evaluation\n",
    "        # For example, you can calculate accuracy:\n",
    "        predicted_labels = torch.argmax(outputs, dim=1)\n",
    "        correct_predictions = (predicted_labels == labels).sum().item()\n",
    "        accuracy = correct_predictions / labels.size(0)\n",
    "        acc.append(accuracy)\n",
    "lst_avg = np.average(acc)\n",
    "print(lst_avg)"
   ]
  },
  {
   "cell_type": "code",
   "execution_count": 16,
   "id": "f801e6ae",
   "metadata": {},
   "outputs": [
    {
     "name": "stdout",
     "output_type": "stream",
     "text": [
      "0.9447115384615384\n"
     ]
    }
   ],
   "source": [
    "with torch.no_grad():\n",
    "    # Validation loop\n",
    "    acc = []\n",
    "    for images, labels in test_loader:\n",
    "        # Move the data to the device (e.g., GPU) if available\n",
    "        images = images.to(device)\n",
    "        labels = labels.to(device)\n",
    "\n",
    "        # Forward pass\n",
    "        outputs = model(images)\n",
    "\n",
    "        # Calculate the loss or any other metrics for evaluation\n",
    "        # For example, you can calculate accuracy:\n",
    "        predicted_labels = torch.argmax(outputs, dim=1)\n",
    "        correct_predictions = (predicted_labels == labels).sum().item()\n",
    "        accuracy = correct_predictions / labels.size(0)\n",
    "        acc.append(accuracy)\n",
    "lst_avg = np.average(acc)\n",
    "print(lst_avg)"
   ]
  },
  {
   "cell_type": "code",
   "execution_count": 17,
   "id": "e1a4272b",
   "metadata": {},
   "outputs": [],
   "source": [
    "model_path = r'D:\\leaf\\model.pt'\n",
    "\n",
    "# Save the model\n",
    "torch.save(model.state_dict(), model_path)"
   ]
  },
  {
   "cell_type": "code",
   "execution_count": 18,
   "id": "e2f87dde",
   "metadata": {},
   "outputs": [
    {
     "name": "stdout",
     "output_type": "stream",
     "text": [
      "================ Diagnostic Run torch.onnx.export version 2.0.1 ================\n",
      "verbose: False, log level: Level.ERROR\n",
      "======================= 0 NONE 0 NOTE 0 WARNING 0 ERROR ========================\n",
      "\n"
     ]
    }
   ],
   "source": [
    "device = torch.device('cuda' if torch.cuda.is_available() else 'cpu')\n",
    "model = model.to(device)\n",
    "\n",
    "# Prepare a sample input tensor\n",
    "input_shape = (1, 3, 224, 224) \n",
    "sample_input = torch.randn(input_shape).to(device)\n",
    "\n",
    "# Export the model to ONNX\n",
    "onnx_file_path = 'D:\\leaf\\model.onnx'  # Specify the path and file name for the output ONNX file\n",
    "torch.onnx.export(model, sample_input, onnx_file_path, export_params=True)\n"
   ]
  },
  {
   "cell_type": "code",
   "execution_count": null,
   "id": "9f8a4335",
   "metadata": {},
   "outputs": [],
   "source": []
  },
  {
   "cell_type": "code",
   "execution_count": null,
   "id": "83f29bfa",
   "metadata": {},
   "outputs": [],
   "source": []
  },
  {
   "cell_type": "code",
   "execution_count": null,
   "id": "79b71e5e",
   "metadata": {},
   "outputs": [],
   "source": []
  },
  {
   "cell_type": "code",
   "execution_count": null,
   "id": "31ae057c",
   "metadata": {},
   "outputs": [],
   "source": []
  },
  {
   "cell_type": "code",
   "execution_count": null,
   "id": "93546b0d",
   "metadata": {},
   "outputs": [],
   "source": []
  },
  {
   "cell_type": "code",
   "execution_count": null,
   "id": "ddd1f093",
   "metadata": {},
   "outputs": [],
   "source": []
  }
 ],
 "metadata": {
  "kernelspec": {
   "display_name": "Python 3 (ipykernel)",
   "language": "python",
   "name": "python3"
  },
  "language_info": {
   "codemirror_mode": {
    "name": "ipython",
    "version": 3
   },
   "file_extension": ".py",
   "mimetype": "text/x-python",
   "name": "python",
   "nbconvert_exporter": "python",
   "pygments_lexer": "ipython3",
   "version": "3.11.3"
  }
 },
 "nbformat": 4,
 "nbformat_minor": 5
}
